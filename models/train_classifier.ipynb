{
  "cells": [
    {
      "cell_type": "markdown",
      "metadata": {
        "id": "Q1zs9_pDiWw8"
      },
      "source": [
        "# ML Pipeline Preparation\n",
        "Follow the instructions below to help you create your ML pipeline.\n",
        "### 1. Import libraries and load data from database.\n",
        "- Import Python libraries\n",
        "- Load dataset from database with [`read_sql_table`](https://pandas.pydata.org/pandas-docs/stable/generated/pandas.read_sql_table.html)\n",
        "- Define feature and target variables X and Y"
      ]
    },
    {
      "cell_type": "code",
      "execution_count": 2,
      "metadata": {
        "colab": {
          "base_uri": "https://localhost:8080/"
        },
        "id": "t5GWdp6BiWxE",
        "outputId": "946f64dc-db21-4b4e-d7f6-a30d50cabd51"
      },
      "outputs": [
        {
          "output_type": "stream",
          "name": "stdout",
          "text": [
            "[nltk_data] Downloading package punkt to /root/nltk_data...\n",
            "[nltk_data]   Package punkt is already up-to-date!\n",
            "[nltk_data] Downloading package wordnet to /root/nltk_data...\n",
            "[nltk_data]   Package wordnet is already up-to-date!\n",
            "[nltk_data] Downloading package averaged_perceptron_tagger to\n",
            "[nltk_data]     /root/nltk_data...\n",
            "[nltk_data]   Package averaged_perceptron_tagger is already up-to-\n",
            "[nltk_data]       date!\n"
          ]
        }
      ],
      "source": [
        "# import libraries\n",
        "import numpy as np\n",
        "import pandas as pd\n",
        "import requests\n",
        "import sqlite3    \n",
        "import pickle\n",
        "import re\n",
        "\n",
        "from sqlalchemy import create_engine\n",
        "import nltk\n",
        "nltk.download(['punkt', 'wordnet', 'averaged_perceptron_tagger'])\n",
        "from nltk.tokenize import word_tokenize\n",
        "from nltk.stem import WordNetLemmatizer\n",
        "\n",
        "from sklearn.model_selection import train_test_split, GridSearchCV\n",
        "from sklearn.pipeline import Pipeline, FeatureUnion, TransformerMixin\n",
        "from sklearn.ensemble import RandomForestClassifier, AdaBoostClassifier, BaggingClassifier\n",
        "from sklearn.feature_extraction.text import CountVectorizer, TfidfTransformer\n",
        "from sklearn.base import BaseEstimator, TransformerMixin\n",
        "from sklearn.datasets import make_multilabel_classification\n",
        "from sklearn.multioutput import MultiOutputClassifier\n",
        "from sklearn.neighbors import KNeighborsClassifier\n",
        "from sklearn.model_selection import cross_val_score\n",
        "from sklearn.tree import DecisionTreeClassifier\n",
        "from sklearn.metrics import f1_score, recall_score, precision_score, classification_report, accuracy_score"
      ]
    },
    {
      "cell_type": "code",
      "execution_count": 3,
      "metadata": {
        "id": "s96XJ2VdiWxG"
      },
      "outputs": [],
      "source": [
        "# load data from database\n",
        "engine = create_engine('sqlite:///DisasterResponse.db')\n",
        "df = pd.read_sql_table('DisasterResponse', engine)\n",
        "X = df['message']\n",
        "Y = df[df.columns[4:]]\n",
        "category_names = Y.columns"
      ]
    },
    {
      "cell_type": "code",
      "execution_count": 4,
      "metadata": {
        "colab": {
          "base_uri": "https://localhost:8080/"
        },
        "id": "YyHajh1ZiWxG",
        "outputId": "7a684211-ca2b-4b8b-c519-b635eec5ed4e"
      },
      "outputs": [
        {
          "output_type": "execute_result",
          "data": {
            "text/plain": [
              "Index(['0', '1', '2', '3', '4', '5', '6', '7', '8', '9', '10', '11', '12',\n",
              "       '13', '14', '15', '16', '17', '18', '19', '20', '21', '22', '23', '24',\n",
              "       '25', '26', '27', '28', '29', '30', '31', '32', '33', '34', '35'],\n",
              "      dtype='object')"
            ]
          },
          "metadata": {},
          "execution_count": 4
        }
      ],
      "source": [
        "category_names"
      ]
    },
    {
      "cell_type": "markdown",
      "metadata": {
        "id": "MG1KUiENiWxI"
      },
      "source": [
        "### 2. Write a tokenization function to process your text data"
      ]
    },
    {
      "cell_type": "code",
      "execution_count": 5,
      "metadata": {
        "id": "NKCv64a0iWxI"
      },
      "outputs": [],
      "source": [
        "def tokenize(text):\n",
        "    \n",
        "    \"\"\"Tokenize the text \n",
        "    \n",
        "    Tokenize the text information by using word_tokenize and WordNetLemmatizer\n",
        "    \n",
        "    INPOUT:\n",
        "    -----------\n",
        "    text: the information of the message in the data\n",
        "    \n",
        "    OUTPUT:\n",
        "    ----------\n",
        "    result: the modified text\n",
        "    \"\"\"\n",
        "    \n",
        "    #To hadle with special characteres\n",
        "    text = re.sub(r\"[^a-zA-Z0-9]\", \" \", text)\n",
        "    \n",
        "    # tokenize text\n",
        "    tokens = word_tokenize(text)\n",
        "    \n",
        "    #  group the different forms of a word\n",
        "    lemmatizer = WordNetLemmatizer()\n",
        "\n",
        "    clean_tokens = []\n",
        "    for tok in tokens:\n",
        "        clean_tok = lemmatizer.lemmatize(tok).lower().strip()\n",
        "        clean_tokens.append(clean_tok)\n",
        "\n",
        "    return clean_tokens"
      ]
    },
    {
      "cell_type": "markdown",
      "metadata": {
        "id": "Zd12LkORiWxK"
      },
      "source": [
        "### 3. Build a machine learning pipeline\n",
        "This machine pipeline should take in the `message` column as input and output classification results on the other 36 categories in the dataset. You may find the [MultiOutputClassifier](http://scikit-learn.org/stable/modules/generated/sklearn.multioutput.MultiOutputClassifier.html) helpful for predicting multiple target variables."
      ]
    },
    {
      "cell_type": "code",
      "execution_count": 12,
      "metadata": {
        "id": "qh1Rv9eGiWxK"
      },
      "outputs": [],
      "source": [
        "pipeline = Pipeline([\n",
        "    (\"text_pipeline\", Pipeline([\n",
        "        (\"vect\", CountVectorizer(tokenizer=tokenize)),\n",
        "        (\"tfidf\", TfidfTransformer())\n",
        "    ])),\n",
        "    (\"clf\", MultiOutputClassifier(BaggingClassifier()))\n",
        "])"
      ]
    },
    {
      "cell_type": "markdown",
      "metadata": {
        "id": "pGoLPTariWxL"
      },
      "source": [
        "### 4. Train pipeline\n",
        "- Split data into train and test sets\n",
        "- Train pipeline"
      ]
    },
    {
      "cell_type": "code",
      "execution_count": 13,
      "metadata": {
        "id": "P8x1TReFiWxM"
      },
      "outputs": [],
      "source": [
        "# train and test data\n",
        "X_train, X_test, y_train, y_test = train_test_split(X, Y, test_size=0.2, random_state=123)"
      ]
    },
    {
      "cell_type": "code",
      "execution_count": 14,
      "metadata": {
        "colab": {
          "base_uri": "https://localhost:8080/"
        },
        "id": "gb-SRe0LiWxM",
        "outputId": "99fb6b54-5ba6-4ddc-95e3-19abf99478b5"
      },
      "outputs": [
        {
          "output_type": "execute_result",
          "data": {
            "text/plain": [
              "Pipeline(steps=[('vect',\n",
              "                 CountVectorizer(tokenizer=<function tokenize at 0x7f95e80cf4d0>)),\n",
              "                ('tfidf', TfidfTransformer()),\n",
              "                ('clf',\n",
              "                 MultiOutputClassifier(estimator=RandomForestClassifier()))])"
            ]
          },
          "metadata": {},
          "execution_count": 14
        }
      ],
      "source": [
        "#train pipeline\n",
        "pipeline.fit(X_train, y_train)"
      ]
    },
    {
      "cell_type": "markdown",
      "metadata": {
        "id": "izxiyIRjiWxN"
      },
      "source": [
        "### 5. Test your model\n",
        "Report the f1 score, precision and recall for each output category of the dataset. You can do this by iterating through the columns and calling sklearn's `classification_report` on each."
      ]
    },
    {
      "cell_type": "code",
      "source": [
        "#Predict the values using the model\n",
        "y_pred = pipeline.predict(X_test)"
      ],
      "metadata": {
        "id": "mGxVmLHFfvuX"
      },
      "execution_count": null,
      "outputs": []
    },
    {
      "cell_type": "code",
      "source": [
        "#create the report of metrics\n",
        "#report_metrics = classification_report(y_test.values, y_pred, target_names = category_names)\n",
        "#report_metrics"
      ],
      "metadata": {
        "id": "SVAeA3w7f0n3"
      },
      "execution_count": null,
      "outputs": []
    },
    {
      "cell_type": "markdown",
      "metadata": {
        "id": "kegub3sbiWxO"
      },
      "source": [
        "### 6. Improve your model\n",
        "Use grid search to find better parameters. "
      ]
    },
    {
      "cell_type": "code",
      "source": [
        "# params\n",
        "params = {\n",
        "    'base_estimator__max_depth' : [1, 2, 3, 4, 5],\n",
        "    'max_samples' : [0.05, 0.1, 0.2, 0.5]\n",
        "}"
      ],
      "metadata": {
        "id": "Agao4FI0dXjH"
      },
      "execution_count": 36,
      "outputs": []
    },
    {
      "cell_type": "code",
      "source": [
        "# train model\n",
        "cv = GridSearchCV(pipeline, param_grid=params, cv=3)\n"
      ],
      "metadata": {
        "id": "YeDgReGwdamD"
      },
      "execution_count": 37,
      "outputs": []
    },
    {
      "cell_type": "markdown",
      "metadata": {
        "id": "jvRii_8biWxP"
      },
      "source": [
        "### 7. Test your model\n",
        "Show the accuracy, precision, and recall of the tuned model.  \n",
        "\n",
        "Since this project focuses on code quality, process, and  pipelines, there is no minimum performance metric needed to pass. However, make sure to fine tune your models for accuracy, precision and recall to make your project stand out - especially for your portfolio!"
      ]
    },
    {
      "cell_type": "code",
      "execution_count": null,
      "metadata": {
        "id": "TZipbfDeiWxQ"
      },
      "outputs": [],
      "source": [
        "#Predict the values using the model\n",
        "y_pred_cv = cv.predict(X_test)"
      ]
    },
    {
      "cell_type": "code",
      "execution_count": null,
      "metadata": {
        "id": "mbRf7nmkiWxQ"
      },
      "outputs": [],
      "source": [
        "#create the report of metrics\n",
        "report_metrics_cv = classification_report(y_test.values, y_pred_cv, target_names = category_names)\n",
        "report_metrics_cv"
      ]
    },
    {
      "cell_type": "markdown",
      "metadata": {
        "id": "ka7X9Tw2iWxQ"
      },
      "source": [
        "### 8. Try improving your model further. Here are a few ideas:\n",
        "* try other machine learning algorithms\n",
        "* add other features besides the TF-IDF"
      ]
    },
    {
      "cell_type": "code",
      "execution_count": 39,
      "metadata": {
        "id": "uQFbppe9iWxQ"
      },
      "outputs": [],
      "source": [
        " pipeline_2 = Pipeline([\n",
        "        ('vect', CountVectorizer(tokenizer=tokenize)),\n",
        "        ('tfidf', TfidfTransformer()),\n",
        "        ('clf', MultiOutputClassifier(AdaBoostClassifier()))\n",
        "    ])"
      ]
    },
    {
      "cell_type": "code",
      "source": [
        "#train pipeline\n",
        "pipeline_2.fit(X_train, y_train)"
      ],
      "metadata": {
        "colab": {
          "base_uri": "https://localhost:8080/"
        },
        "id": "cgU0GfMxeWZo",
        "outputId": "26fa56d8-1ca9-4925-e9da-abc84b1f671c"
      },
      "execution_count": 41,
      "outputs": [
        {
          "output_type": "execute_result",
          "data": {
            "text/plain": [
              "Pipeline(steps=[('vect',\n",
              "                 CountVectorizer(tokenizer=<function tokenize at 0x7f95e80cf4d0>)),\n",
              "                ('tfidf', TfidfTransformer()),\n",
              "                ('clf', MultiOutputClassifier(estimator=AdaBoostClassifier()))])"
            ]
          },
          "metadata": {},
          "execution_count": 41
        }
      ]
    },
    {
      "cell_type": "code",
      "execution_count": 42,
      "metadata": {
        "id": "EnL81idPiWxR"
      },
      "outputs": [],
      "source": [
        "y_pred_2 = pipeline_2.predict(X_test)"
      ]
    },
    {
      "cell_type": "markdown",
      "metadata": {
        "id": "rMtamcs8iWxR"
      },
      "source": [
        "### 9. Export your model as a pickle file"
      ]
    },
    {
      "cell_type": "code",
      "execution_count": 48,
      "metadata": {
        "id": "N_Q1u8CNiWxR"
      },
      "outputs": [],
      "source": [
        "import pickle"
      ]
    },
    {
      "cell_type": "code",
      "execution_count": 49,
      "metadata": {
        "id": "PEyU9V6IiWxR"
      },
      "outputs": [],
      "source": [
        "with open(\"classifier.pickle\", \"wb\") as file:\n",
        "    pickle.dump(cv, file)"
      ]
    },
    {
      "cell_type": "markdown",
      "metadata": {
        "id": "6TB4b9ciiWxS"
      },
      "source": [
        "### 10. Use this notebook to complete `train.py`\n",
        "Use the template file attached in the Resources folder to write a script that runs the steps above to create a database and export a model based on a new dataset specified by the user."
      ]
    },
    {
      "cell_type": "code",
      "execution_count": null,
      "metadata": {
        "id": "UwCVrcRViWxS"
      },
      "outputs": [],
      "source": [
        ""
      ]
    }
  ],
  "metadata": {
    "kernelspec": {
      "display_name": "Python 3",
      "language": "python",
      "name": "python3"
    },
    "language_info": {
      "codemirror_mode": {
        "name": "ipython",
        "version": 3
      },
      "file_extension": ".py",
      "mimetype": "text/x-python",
      "name": "python",
      "nbconvert_exporter": "python",
      "pygments_lexer": "ipython3",
      "version": "3.6.3"
    },
    "colab": {
      "name": "train_classifier.pynb",
      "provenance": []
    }
  },
  "nbformat": 4,
  "nbformat_minor": 0
}